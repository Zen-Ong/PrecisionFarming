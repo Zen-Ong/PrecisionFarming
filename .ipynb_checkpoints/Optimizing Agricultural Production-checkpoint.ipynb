{
 "cells": [
  {
   "cell_type": "markdown",
   "id": "56d90b23",
   "metadata": {},
   "source": [
    "# Agricultural Production Optimization Engine \n",
    "\n",
    "### This project is intended on Precision Farming\n",
    " - We have to optimize productivity .\n",
    " - By understanding requiremnets of climatic and soil conditions for crops.\n",
    " - Helps us to cope with weather unpredictability."
   ]
  },
  {
   "cell_type": "markdown",
   "id": "45504941",
   "metadata": {},
   "source": [
    "### Goal:\n",
    "- Building a predictive model that suggests the best crops that should be grown based on climatic factor and soil conditions"
   ]
  },
  {
   "cell_type": "markdown",
   "id": "8bbed928",
   "metadata": {},
   "source": [
    "## __Importing Libraries__"
   ]
  },
  {
   "cell_type": "code",
   "execution_count": 5,
   "id": "bee96743",
   "metadata": {},
   "outputs": [],
   "source": [
    "# for manipulations \n",
    "import numpy as np\n",
    "import pandas as pd \n",
    "\n",
    "# for data visualisations \n",
    "import matplotlib.pyplot as plt \n",
    "import seaborn as sns \n",
    "\n",
    "# for interactivity \n",
    "from ipywidgets import interact"
   ]
  },
  {
   "cell_type": "code",
   "execution_count": 6,
   "id": "9860c449",
   "metadata": {},
   "outputs": [],
   "source": [
    "#read the dataset\n",
    "data = pd.read_csv('data.csv')"
   ]
  },
  {
   "cell_type": "code",
   "execution_count": 7,
   "id": "fcec701b",
   "metadata": {},
   "outputs": [
    {
     "name": "stdout",
     "output_type": "stream",
     "text": [
      "Shape of the Dataset:  (2200, 8)\n"
     ]
    }
   ],
   "source": [
    "#check the shape of the dataset\n",
    "#dataframme is a data structure with columns of different data types\n",
    "#shape (number of rows, number of columns )\n",
    "print('Shape of the Dataset: ', data.shape)"
   ]
  },
  {
   "cell_type": "code",
   "execution_count": 8,
   "id": "6292dbd4",
   "metadata": {},
   "outputs": [
    {
     "data": {
      "text/html": [
       "<div>\n",
       "<style scoped>\n",
       "    .dataframe tbody tr th:only-of-type {\n",
       "        vertical-align: middle;\n",
       "    }\n",
       "\n",
       "    .dataframe tbody tr th {\n",
       "        vertical-align: top;\n",
       "    }\n",
       "\n",
       "    .dataframe thead th {\n",
       "        text-align: right;\n",
       "    }\n",
       "</style>\n",
       "<table border=\"1\" class=\"dataframe\">\n",
       "  <thead>\n",
       "    <tr style=\"text-align: right;\">\n",
       "      <th></th>\n",
       "      <th>N</th>\n",
       "      <th>P</th>\n",
       "      <th>K</th>\n",
       "      <th>temperature</th>\n",
       "      <th>humidity</th>\n",
       "      <th>ph</th>\n",
       "      <th>rainfall</th>\n",
       "      <th>label</th>\n",
       "    </tr>\n",
       "  </thead>\n",
       "  <tbody>\n",
       "    <tr>\n",
       "      <th>0</th>\n",
       "      <td>90</td>\n",
       "      <td>42</td>\n",
       "      <td>43</td>\n",
       "      <td>20.879744</td>\n",
       "      <td>82.002744</td>\n",
       "      <td>6.502985</td>\n",
       "      <td>202.935536</td>\n",
       "      <td>rice</td>\n",
       "    </tr>\n",
       "    <tr>\n",
       "      <th>1</th>\n",
       "      <td>85</td>\n",
       "      <td>58</td>\n",
       "      <td>41</td>\n",
       "      <td>21.770462</td>\n",
       "      <td>80.319644</td>\n",
       "      <td>7.038096</td>\n",
       "      <td>226.655537</td>\n",
       "      <td>rice</td>\n",
       "    </tr>\n",
       "    <tr>\n",
       "      <th>2</th>\n",
       "      <td>60</td>\n",
       "      <td>55</td>\n",
       "      <td>44</td>\n",
       "      <td>23.004459</td>\n",
       "      <td>82.320763</td>\n",
       "      <td>7.840207</td>\n",
       "      <td>263.964248</td>\n",
       "      <td>rice</td>\n",
       "    </tr>\n",
       "    <tr>\n",
       "      <th>3</th>\n",
       "      <td>74</td>\n",
       "      <td>35</td>\n",
       "      <td>40</td>\n",
       "      <td>26.491096</td>\n",
       "      <td>80.158363</td>\n",
       "      <td>6.980401</td>\n",
       "      <td>242.864034</td>\n",
       "      <td>rice</td>\n",
       "    </tr>\n",
       "    <tr>\n",
       "      <th>4</th>\n",
       "      <td>78</td>\n",
       "      <td>42</td>\n",
       "      <td>42</td>\n",
       "      <td>20.130175</td>\n",
       "      <td>81.604873</td>\n",
       "      <td>7.628473</td>\n",
       "      <td>262.717340</td>\n",
       "      <td>rice</td>\n",
       "    </tr>\n",
       "  </tbody>\n",
       "</table>\n",
       "</div>"
      ],
      "text/plain": [
       "    N   P   K  temperature   humidity        ph    rainfall label\n",
       "0  90  42  43    20.879744  82.002744  6.502985  202.935536  rice\n",
       "1  85  58  41    21.770462  80.319644  7.038096  226.655537  rice\n",
       "2  60  55  44    23.004459  82.320763  7.840207  263.964248  rice\n",
       "3  74  35  40    26.491096  80.158363  6.980401  242.864034  rice\n",
       "4  78  42  42    20.130175  81.604873  7.628473  262.717340  rice"
      ]
     },
     "execution_count": 8,
     "metadata": {},
     "output_type": "execute_result"
    }
   ],
   "source": [
    "#check the head of the dataset\n",
    "data.head()"
   ]
  },
  {
   "cell_type": "code",
   "execution_count": 9,
   "id": "c845f1d4",
   "metadata": {},
   "outputs": [
    {
     "data": {
      "text/plain": [
       "N              0\n",
       "P              0\n",
       "K              0\n",
       "temperature    0\n",
       "humidity       0\n",
       "ph             0\n",
       "rainfall       0\n",
       "label          0\n",
       "dtype: int64"
      ]
     },
     "execution_count": 9,
     "metadata": {},
     "output_type": "execute_result"
    }
   ],
   "source": [
    "#check for missing values, null values cannot be processed by ml models\n",
    "#if there are null values, use fill.any function (fill with mean(numerical)/median(data has many outliers)/mode(categorical))\n",
    "data.isnull().sum()"
   ]
  },
  {
   "cell_type": "code",
   "execution_count": 10,
   "id": "f67a7b2b",
   "metadata": {},
   "outputs": [
    {
     "data": {
      "text/plain": [
       "maize          100\n",
       "coconut        100\n",
       "lentil         100\n",
       "grapes         100\n",
       "coffee         100\n",
       "rice           100\n",
       "mango          100\n",
       "muskmelon      100\n",
       "pomegranate    100\n",
       "pigeonpeas     100\n",
       "jute           100\n",
       "orange         100\n",
       "watermelon     100\n",
       "cotton         100\n",
       "mungbean       100\n",
       "papaya         100\n",
       "kidneybeans    100\n",
       "banana         100\n",
       "apple          100\n",
       "chickpea       100\n",
       "blackgram      100\n",
       "mothbeans      100\n",
       "Name: label, dtype: int64"
      ]
     },
     "execution_count": 10,
     "metadata": {},
     "output_type": "execute_result"
    }
   ],
   "source": [
    "#check the crops present in the dataset\n",
    "data['label'].value_counts()"
   ]
  },
  {
   "cell_type": "code",
   "execution_count": 11,
   "id": "69f5267e",
   "metadata": {},
   "outputs": [
    {
     "name": "stdout",
     "output_type": "stream",
     "text": [
      "Average Ratio of Nitrogen in the Soil : 50.55\n",
      "Average Ratio of Phosphorus in the Soil : 53.36\n",
      "Average Ratio of Potassium in the Soil : 48.15\n",
      "Average Temperature in Celsius : 25.62\n",
      "Average Relative Humidity in % : 71.48\n",
      "Average PH value in the soil : 6.47\n",
      "Average Rainfall in mm : 103.46\n"
     ]
    }
   ],
   "source": [
    "# check the summary of all the crops\n",
    "\n",
    "print('Average Ratio of Nitrogen in the Soil : {0:.2f}'.format(data['N'].mean()))\n",
    "print('Average Ratio of Phosphorus in the Soil : {0:.2f}'.format(data['P'].mean()))\n",
    "print('Average Ratio of Potassium in the Soil : {0:.2f}'.format(data['K'].mean()))\n",
    "print('Average Temperature in Celsius : {0:.2f}'.format(data['temperature'].mean()))\n",
    "print('Average Relative Humidity in % : {0:.2f}'.format(data['humidity'].mean()))\n",
    "print('Average PH value in the soil : {0:.2f}'.format(data['ph'].mean()))\n",
    "print('Average Rainfall in mm : {0:.2f}'.format(data['rainfall'].mean()))\n"
   ]
  },
  {
   "cell_type": "code",
   "execution_count": 12,
   "id": "0a25f9d8",
   "metadata": {},
   "outputs": [
    {
     "data": {
      "application/vnd.jupyter.widget-view+json": {
       "model_id": "bec3c86353b44d82b1ee7fed7d9fecbc",
       "version_major": 2,
       "version_minor": 0
      },
      "text/plain": [
       "interactive(children=(Dropdown(description='crops', options=('maize', 'coconut', 'lentil', 'grapes', 'coffee',…"
      ]
     },
     "metadata": {},
     "output_type": "display_data"
    }
   ],
   "source": [
    "#check the summary statistics for each of the crops \n",
    "# 1.store list of labels under the variable 'crop'\n",
    "\n",
    "@interact\n",
    "def summary(crops = list(data['label'].value_counts().index)):\n",
    "             x = data[data['label'] == crops]\n",
    "             print('--------------------------------------------')\n",
    "             print('Statistics for Nitrogen')\n",
    "             print('Minimum Nitrogen Required :', x['N'].min())\n",
    "             print('Average Nitrogen Required :', x['N'].mean())\n",
    "             print('Maximum Nitrogen Required :', x['N'].max())\n",
    "             print('--------------------------------------------')\n",
    "             print('Statistics for Phosphorous')\n",
    "             print('Minimum Phosphorous Required :', x['P'].min())\n",
    "             print('Average Phosphorous Required :', x['P'].mean())\n",
    "             print('Maximum Phosphorous Required :', x['P'].max())\n",
    "             print('--------------------------------------------')\n",
    "             print('Statistics for Potassium')\n",
    "             print('Minimum Potassium Required :', x['K'].min())\n",
    "             print('Average Potassium Required :', x['K'].mean())\n",
    "             print('Maximum Potassium Required :', x['K'].max()) \n",
    "             print('--------------------------------------------')\n",
    "             print('Statistics for Temperature')\n",
    "             print('Minimum Temperature Required : {0:.2f}'.format(x['temperature'].min()))\n",
    "             print('Average Temperature Required : {0:.2f}'.format(x['temperature'].mean()))\n",
    "             print('Maximum Temperature Required : {0:.2f}'.format(x['temperature'].max()))\n",
    "             print('--------------------------------------------')\n",
    "             print('Statistics for Humidity')\n",
    "             print('Minimum Humidity Required : {0:.2f}'.format(x['humidity'].min()))\n",
    "             print('Average Humidity Required : {0:.2f}'.format(x['humidity'].mean()))\n",
    "             print('Maximum Humidity Required : {0:.2f}'.format(x['humidity'].max()))\n",
    "             print('--------------------------------------------')\n",
    "             print('Statistics for PH')\n",
    "             print('Minimum PH Required : {0:.2f}'.format(x['ph'].min()))\n",
    "             print('Average PH Required : {0:.2f}'.format(x['ph'].mean()))\n",
    "             print('Maximum PH Required : {0:.2f}'.format(x['ph'].max()))\n",
    "             print('--------------------------------------------')\n",
    "             print('Statistics for Rainfall')\n",
    "             print('Minimum Rainfall Required : {0:.2f}'.format(x['rainfall'].min()))\n",
    "             print('Average Rainfall Required : {0:.2f}'.format(x['rainfall'].mean()))\n",
    "             print('Maximum Rainfall Required : {0:.2f}'.format(x['rainfall'].max()))"
   ]
  },
  {
   "cell_type": "code",
   "execution_count": 13,
   "id": "c68c2a7c",
   "metadata": {},
   "outputs": [
    {
     "data": {
      "application/vnd.jupyter.widget-view+json": {
       "model_id": "c8e1af2009da44f79313f8cf1d9a678f",
       "version_major": 2,
       "version_minor": 0
      },
      "text/plain": [
       "interactive(children=(Dropdown(description='conditions', options=('N', 'P', 'K', 'temperature', 'ph', 'humidit…"
      ]
     },
     "metadata": {},
     "output_type": "display_data"
    }
   ],
   "source": [
    "# compare the Average Requirement for each crops with average conditions\n",
    "\n",
    "@interact\n",
    "def compare(conditions = ['N', 'P', 'K', 'temperature', 'ph', 'humidity', 'rainfall']):\n",
    "    print('Average Value for', conditions, 'is {0:.2f}'.format(data[conditions].mean()))\n",
    "    print('----------------------------------------------')\n",
    "    print('Rice : {0:.2f}'.format(data[(data['label'] == 'rice')][conditions].mean()))\n",
    "    print('Black Grams : {0:.2f}'.format(data[(data['label'] == 'blackgram')][conditions].mean()))\n",
    "    print('Banana : {0:.2f}'.format(data[(data['label'] == 'banana')][conditions].mean()))\n",
    "    print('Jute : {0:.2f}'.format(data[(data['label'] == 'jute')][conditions].mean()))\n",
    "    print('Coconut : {0:.2f}'.format(data[(data['label'] == 'coconut')][conditions].mean()))\n",
    "    print('Apple : {0:.2f}'.format(data[(data['label'] == 'apple')][conditions].mean()))\n",
    "    print('Papaya : {0:.2f}'.format(data[(data['label'] == 'papaya')][conditions].mean()))\n",
    "    print('Muskmelon : {0:.2f}'.format(data[(data['label'] == 'muskmelon')][conditions].mean()))\n",
    "    print('Grapes : {0:.2f}'.format(data[(data['label'] == 'grapes')][conditions].mean()))\n",
    "    print('Watermelon : {0:.2f}'.format(data[(data['label'] == 'watermelon')][conditions].mean()))\n",
    "    print('Kidney Beans : {0:.2f}'.format(data[(data['label'] == 'kidneybeans')][conditions].mean()))\n",
    "    print('Mung Beans : {0:.2f}'.format(data[(data['label'] == 'mungbean')][conditions].mean()))\n",
    "    print('Oranges : {0:.2f}'.format(data[(data['label'] == 'orange')][conditions].mean()))\n",
    "    print('Chick Peas : {0:.2f}'.format(data[(data['label'] == 'chickpea')][conditions].mean()))\n",
    "    print('Lentils : {0:.2f}'.format(data[(data['label'] == 'lentils')][conditions].mean()))\n",
    "    print('Cotton : {0:.2f}'.format(data[(data['label'] == 'cotton')][conditions].mean()))\n",
    "    print('Maize : {0:.2f}'.format(data[(data['label'] == 'maize')][conditions].mean()))\n",
    "    print('Moth Beans : {0:.2f}'.format(data[(data['label'] == 'mothbeans')][conditions].mean()))\n",
    "    print('Pigeon Peas : {0:.2f}'.format(data[(data['label'] == 'pigeonpeas')][conditions].mean()))\n",
    "    print('Mango : {0:.2f}'.format(data[(data['label'] == 'mango')][conditions].mean()))\n",
    "    print('Pomegranate : {0:.2f}'.format(data[(data['label'] == 'pomogranate')][conditions].mean()))\n",
    "    print('Coffee : {0:.2f}'.format(data[(data['label'] == 'coffee')][conditions].mean()))\n",
    "    \n",
    "    "
   ]
  },
  {
   "cell_type": "code",
   "execution_count": 14,
   "id": "3193315e",
   "metadata": {},
   "outputs": [
    {
     "data": {
      "application/vnd.jupyter.widget-view+json": {
       "model_id": "6a573f485b3746128d492e1d90ec9328",
       "version_major": 2,
       "version_minor": 0
      },
      "text/plain": [
       "interactive(children=(Dropdown(description='conditions', options=('N', 'P', 'K', 'temperature', 'ph', 'humidit…"
      ]
     },
     "metadata": {},
     "output_type": "display_data"
    }
   ],
   "source": [
    "# more intuitive \n",
    "\n",
    "@interact\n",
    "def compare(conditions = ['N', 'P', 'K', 'temperature', 'ph', 'humidity', 'rainfall']):\n",
    "    print('Crops which require greater than average', conditions, '\\n')\n",
    "    print(data[data[conditions] > data[conditions].mean()]['label'].unique())\n",
    "    print('-----------------------------------------------')\n",
    "    print('Crops which require less than average', conditions, '\\n')\n",
    "    print(data[data[conditions] < data[conditions].mean()]['label'].unique())"
   ]
  },
  {
   "cell_type": "markdown",
   "id": "7f25fce7",
   "metadata": {},
   "source": [
    "## __Distributuion__"
   ]
  },
  {
   "cell_type": "code",
   "execution_count": 15,
   "id": "c1ae578e",
   "metadata": {},
   "outputs": [
    {
     "name": "stderr",
     "output_type": "stream",
     "text": [
      "C:\\Users\\ASUS\\anaconda3\\lib\\site-packages\\seaborn\\distributions.py:2557: FutureWarning: `distplot` is a deprecated function and will be removed in a future version. Please adapt your code to use either `displot` (a figure-level function with similar flexibility) or `histplot` (an axes-level function for histograms).\n",
      "  warnings.warn(msg, FutureWarning)\n",
      "C:\\Users\\ASUS\\anaconda3\\lib\\site-packages\\seaborn\\distributions.py:2557: FutureWarning: `distplot` is a deprecated function and will be removed in a future version. Please adapt your code to use either `displot` (a figure-level function with similar flexibility) or `histplot` (an axes-level function for histograms).\n",
      "  warnings.warn(msg, FutureWarning)\n",
      "C:\\Users\\ASUS\\anaconda3\\lib\\site-packages\\seaborn\\distributions.py:2557: FutureWarning: `distplot` is a deprecated function and will be removed in a future version. Please adapt your code to use either `displot` (a figure-level function with similar flexibility) or `histplot` (an axes-level function for histograms).\n",
      "  warnings.warn(msg, FutureWarning)\n",
      "C:\\Users\\ASUS\\anaconda3\\lib\\site-packages\\seaborn\\distributions.py:2557: FutureWarning: `distplot` is a deprecated function and will be removed in a future version. Please adapt your code to use either `displot` (a figure-level function with similar flexibility) or `histplot` (an axes-level function for histograms).\n",
      "  warnings.warn(msg, FutureWarning)\n",
      "C:\\Users\\ASUS\\anaconda3\\lib\\site-packages\\seaborn\\distributions.py:2557: FutureWarning: `distplot` is a deprecated function and will be removed in a future version. Please adapt your code to use either `displot` (a figure-level function with similar flexibility) or `histplot` (an axes-level function for histograms).\n",
      "  warnings.warn(msg, FutureWarning)\n",
      "C:\\Users\\ASUS\\anaconda3\\lib\\site-packages\\seaborn\\distributions.py:2557: FutureWarning: `distplot` is a deprecated function and will be removed in a future version. Please adapt your code to use either `displot` (a figure-level function with similar flexibility) or `histplot` (an axes-level function for histograms).\n",
      "  warnings.warn(msg, FutureWarning)\n",
      "C:\\Users\\ASUS\\anaconda3\\lib\\site-packages\\seaborn\\distributions.py:2557: FutureWarning: `distplot` is a deprecated function and will be removed in a future version. Please adapt your code to use either `displot` (a figure-level function with similar flexibility) or `histplot` (an axes-level function for histograms).\n",
      "  warnings.warn(msg, FutureWarning)\n"
     ]
    },
    {
     "data": {
      "image/png": "[encoded data removed]",
      "text/plain": [
       "<Figure size 1080x504 with 7 Axes>"
      ]
     },
     "metadata": {
      "needs_background": "light"
     },
     "output_type": "display_data"
    }
   ],
   "source": [
    "# Check the distribution of Agricultural Conditions\n",
    "\n",
    "plt.rcParams['figure.figsize'] = (15,7)\n",
    "\n",
    "plt.subplot(2,4,1)\n",
    "sns.distplot(data['N'], color = 'lightgrey')\n",
    "plt.xlabel('Ratio of Nitrogen', fontsize = 12)\n",
    "plt.grid()\n",
    "\n",
    "plt.subplot(2,4,2)\n",
    "sns.distplot(data['P'], color = 'skyblue')\n",
    "plt.xlabel('Ratio of Phosphorous', fontsize = 12)\n",
    "plt.grid()\n",
    "\n",
    "plt.subplot(2,4,3)\n",
    "sns.distplot(data['K'], color = 'darkblue')\n",
    "plt.xlabel('Ratio of Potassium', fontsize = 12)\n",
    "plt.grid()\n",
    "\n",
    "plt.subplot(2,4,4)\n",
    "sns.distplot(data['temperature'], color = 'black')\n",
    "plt.xlabel('Temperature', fontsize = 12)\n",
    "plt.grid()\n",
    "\n",
    "plt.subplot(2,4,5)\n",
    "sns.distplot(data['rainfall'], color = 'darkblue')\n",
    "plt.xlabel('Rainfall', fontsize = 12)\n",
    "plt.grid()\n",
    "\n",
    "plt.subplot(2,4,6)\n",
    "sns.distplot(data['humidity'], color = 'lightgreen')\n",
    "plt.xlabel('Humidity', fontsize = 12)\n",
    "plt.grid()\n",
    "\n",
    "plt.subplot(2,4,7)\n",
    "sns.distplot(data['ph'], color = 'red')\n",
    "plt.xlabel('PH', fontsize = 12)\n",
    "plt.grid()\n",
    "\n",
    "\n",
    "\n"
   ]
  },
  {
   "cell_type": "code",
   "execution_count": 16,
   "id": "1583782d",
   "metadata": {},
   "outputs": [
    {
     "name": "stdout",
     "output_type": "stream",
     "text": [
      "Some Interesting Patterns\n",
      "----------------------------------\n",
      "Crops which require very High Ratio of Nitrogen Content in Soil: ['cotton']\n",
      "Crops which require very High Ratio of Phosphorous Content in Soil: ['grapes' 'apple']\n",
      "Crops which require very High Ratio of Potassium Content in Soil: ['grapes' 'apple']\n",
      "Crops which require very High Rainfall: ['rice' 'papaya' 'coconut']\n",
      "Crops which require very Low Temperature: ['grapes']\n",
      "Crops which require very High Temperature: ['grapes' 'papaya']\n",
      "Crops which require very Low Humidity: ['chickpea' 'kidneybeans']\n",
      "Crops which require very Low pH: ['mothbeans']\n",
      "Crops which require very High pH: ['mothbeans']\n"
     ]
    }
   ],
   "source": [
    "## Interesting Findings\n",
    "\n",
    "print('Some Interesting Patterns')\n",
    "print('----------------------------------')\n",
    "print('Crops which require very High Ratio of Nitrogen Content in Soil:', data[data['N'] > 120]['label'].unique())\n",
    "print('Crops which require very High Ratio of Phosphorous Content in Soil:', data[data['P'] > 100]['label'].unique())\n",
    "print('Crops which require very High Ratio of Potassium Content in Soil:', data[data['K'] > 200]['label'].unique())\n",
    "print('Crops which require very High Rainfall:', data[data['rainfall'] > 200]['label'].unique())\n",
    "print('Crops which require very Low Temperature:', data[data['temperature'] < 10]['label'].unique())\n",
    "print('Crops which require very High Temperature:', data[data['temperature'] > 40]['label'].unique())\n",
    "print('Crops which require very Low Humidity:', data[data['humidity'] < 20]['label'].unique())\n",
    "print('Crops which require very Low pH:', data[data['ph'] < 4]['label'].unique())\n",
    "print('Crops which require very High pH:', data[data['ph'] > 9]['label'].unique())"
   ]
  },
  {
   "cell_type": "code",
   "execution_count": 17,
   "id": "1d3b2bba",
   "metadata": {},
   "outputs": [
    {
     "name": "stdout",
     "output_type": "stream",
     "text": [
      "Summer Crops\n",
      "['pigeonpeas' 'mothbeans' 'blackgram' 'mango' 'grapes' 'orange' 'papaya']\n",
      "-----------------------------------------------------------------------------\n",
      "Winter Crops\n",
      "['maize' 'pigeonpeas' 'lentil' 'pomegranate' 'grapes' 'orange']\n",
      "-----------------------------------------------------------------------------\n",
      "Rainy Crops\n",
      "['rice' 'papaya' 'coconut']\n"
     ]
    }
   ],
   "source": [
    "# Understand which crops can only be grown in the Summer, Winter, Rainy Season\n",
    "\n",
    "print('Summer Crops')\n",
    "print(data[(data['temperature'] > 30) & (data['humidity'] > 50)] ['label'].unique())\n",
    "print('-----------------------------------------------------------------------------')\n",
    "print('Winter Crops')\n",
    "print(data[(data['temperature'] < 20) & (data['humidity'] > 30)] ['label'].unique())\n",
    "print('-----------------------------------------------------------------------------')\n",
    "print('Rainy Crops')\n",
    "print(data[(data['rainfall'] > 200) & (data['humidity'] > 30)] ['label'].unique())\n"
   ]
  },
  {
   "cell_type": "code",
   "execution_count": 18,
   "id": "9bec760a",
   "metadata": {},
   "outputs": [
    {
     "name": "stdout",
     "output_type": "stream",
     "text": [
      "(2200, 7)\n"
     ]
    },
    {
     "data": {
      "text/html": [
       "<div>\n",
       "<style scoped>\n",
       "    .dataframe tbody tr th:only-of-type {\n",
       "        vertical-align: middle;\n",
       "    }\n",
       "\n",
       "    .dataframe tbody tr th {\n",
       "        vertical-align: top;\n",
       "    }\n",
       "\n",
       "    .dataframe thead th {\n",
       "        text-align: right;\n",
       "    }\n",
       "</style>\n",
       "<table border=\"1\" class=\"dataframe\">\n",
       "  <thead>\n",
       "    <tr style=\"text-align: right;\">\n",
       "      <th></th>\n",
       "      <th>0</th>\n",
       "      <th>1</th>\n",
       "      <th>2</th>\n",
       "      <th>3</th>\n",
       "      <th>4</th>\n",
       "      <th>5</th>\n",
       "      <th>6</th>\n",
       "    </tr>\n",
       "  </thead>\n",
       "  <tbody>\n",
       "    <tr>\n",
       "      <th>0</th>\n",
       "      <td>90.0</td>\n",
       "      <td>42.0</td>\n",
       "      <td>43.0</td>\n",
       "      <td>20.879744</td>\n",
       "      <td>6.502985</td>\n",
       "      <td>82.002744</td>\n",
       "      <td>202.935536</td>\n",
       "    </tr>\n",
       "    <tr>\n",
       "      <th>1</th>\n",
       "      <td>85.0</td>\n",
       "      <td>58.0</td>\n",
       "      <td>41.0</td>\n",
       "      <td>21.770462</td>\n",
       "      <td>7.038096</td>\n",
       "      <td>80.319644</td>\n",
       "      <td>226.655537</td>\n",
       "    </tr>\n",
       "    <tr>\n",
       "      <th>2</th>\n",
       "      <td>60.0</td>\n",
       "      <td>55.0</td>\n",
       "      <td>44.0</td>\n",
       "      <td>23.004459</td>\n",
       "      <td>7.840207</td>\n",
       "      <td>82.320763</td>\n",
       "      <td>263.964248</td>\n",
       "    </tr>\n",
       "    <tr>\n",
       "      <th>3</th>\n",
       "      <td>74.0</td>\n",
       "      <td>35.0</td>\n",
       "      <td>40.0</td>\n",
       "      <td>26.491096</td>\n",
       "      <td>6.980401</td>\n",
       "      <td>80.158363</td>\n",
       "      <td>242.864034</td>\n",
       "    </tr>\n",
       "    <tr>\n",
       "      <th>4</th>\n",
       "      <td>78.0</td>\n",
       "      <td>42.0</td>\n",
       "      <td>42.0</td>\n",
       "      <td>20.130175</td>\n",
       "      <td>7.628473</td>\n",
       "      <td>81.604873</td>\n",
       "      <td>262.717340</td>\n",
       "    </tr>\n",
       "  </tbody>\n",
       "</table>\n",
       "</div>"
      ],
      "text/plain": [
       "      0     1     2          3         4          5           6\n",
       "0  90.0  42.0  43.0  20.879744  6.502985  82.002744  202.935536\n",
       "1  85.0  58.0  41.0  21.770462  7.038096  80.319644  226.655537\n",
       "2  60.0  55.0  44.0  23.004459  7.840207  82.320763  263.964248\n",
       "3  74.0  35.0  40.0  26.491096  6.980401  80.158363  242.864034\n",
       "4  78.0  42.0  42.0  20.130175  7.628473  81.604873  262.717340"
      ]
     },
     "execution_count": 18,
     "metadata": {},
     "output_type": "execute_result"
    }
   ],
   "source": [
    "# Cluster the crops \n",
    "# Clustering analysis is the method of classifying data points into relative groups called cluster \n",
    "# Clustering is an unsupervised learing - there will be no labels for training \n",
    "# This helps the farmers with alternative farming \n",
    "# Method of clustering: K-means clustering, from sklearn\n",
    "\n",
    "from sklearn.cluster import KMeans \n",
    "import warnings \n",
    "warnings.filterwarnings('ignore')  # import warnings library to avoid warnings\n",
    "\n",
    "# Remove the labels from the data as clustering is an unsupervised learning which does not require labels\n",
    "x = data.loc[:, ['N','P','K', 'temperature', 'ph', 'humidity','rainfall']].values\n",
    "\n",
    "#check the shape of x \n",
    "print(x.shape)\n",
    "\n",
    "# convert this data into a dataframe\n",
    "\n",
    "x_data = pd.DataFrame(x)\n",
    "x_data.head()"
   ]
  },
  {
   "cell_type": "code",
   "execution_count": 19,
   "id": "d24456de",
   "metadata": {},
   "outputs": [
    {
     "data": {
      "image/png": "[encoded data removed]",
      "text/plain": [
       "<Figure size 720x288 with 1 Axes>"
      ]
     },
     "metadata": {
      "needs_background": "light"
     },
     "output_type": "display_data"
    }
   ],
   "source": [
    "# Determine the optimum number of clusters within the Data set \n",
    "# Method : Elbow Method\n",
    "\n",
    "plt.rcParams['figure.figsize'] = (10,4)\n",
    "\n",
    "wcss = []\n",
    "for i in range(1,11):\n",
    "    km = KMeans(n_clusters = i, init = 'k-means++', max_iter = 300, n_init = 10, random_state = 0)\n",
    "    km.fit(x)\n",
    "    wcss.append(km.inertia_)\n",
    "    \n",
    "# plot the results\n",
    "plt.plot(range(1,11), wcss)\n",
    "plt.title('The Elbow Method', fontsize = 20)\n",
    "plt.xlabel('No. of Clusters')\n",
    "plt.ylabel('wcss')\n",
    "plt.show()"
   ]
  },
  {
   "cell_type": "code",
   "execution_count": 20,
   "id": "959a9acf",
   "metadata": {},
   "outputs": [
    {
     "name": "stdout",
     "output_type": "stream",
     "text": [
      "Lets Check the results after applying K Means Clustering analysis \n",
      "\n",
      "Crops in First Cluster: ['maize' 'chickpea' 'kidneybeans' 'pigeonpeas' 'mothbeans' 'mungbean'\n",
      " 'blackgram' 'lentil' 'pomegranate' 'mango' 'orange' 'papaya' 'coconut']\n",
      "----------------------------------------------------------------------------------\n",
      "Crops in Second cluster: ['maize' 'banana' 'watermelon' 'muskmelon' 'papaya' 'cotton' 'coffee']\n",
      "----------------------------------------------------------------------------------\n",
      "Crops in Third Cluster: ['grapes' 'apple']\n",
      "----------------------------------------------------------------------------------\n",
      "Crops in Forth Cluster: ['rice' 'pigeonpeas' 'papaya' 'coconut' 'jute' 'coffee']\n"
     ]
    }
   ],
   "source": [
    "# implement the K Means Algo to perform clustering analysis \n",
    "km = KMeans(n_clusters = 4, init = 'k-means++', max_iter = 300, n_init = 10, random_state = 0)\n",
    "y_means = km.fit_predict(x)\n",
    "\n",
    "# Results\n",
    "a = data['label']\n",
    "y_means = pd.DataFrame(y_means)\n",
    "z = pd.concat([y_means, a], axis = 1)\n",
    "z = z.rename(columns = {0: 'cluster'})\n",
    "\n",
    "# Check the Clusters of each crops, helps farmers choose alternate crops easily and maximise productivity \n",
    "print('Lets Check the results after applying K Means Clustering analysis \\n')\n",
    "print('Crops in First Cluster:', z[z['cluster'] == 0]['label'].unique())\n",
    "print('----------------------------------------------------------------------------------')\n",
    "print('Crops in Second cluster:', z[z['cluster'] == 1]['label'].unique())\n",
    "print('----------------------------------------------------------------------------------')\n",
    "print('Crops in Third Cluster:', z[z['cluster'] == 2]['label'].unique())\n",
    "print('----------------------------------------------------------------------------------')\n",
    "print('Crops in Forth Cluster:', z[z['cluster'] == 3]['label'].unique())\n",
    "\n"
   ]
  },
  {
   "cell_type": "code",
   "execution_count": 21,
   "id": "79328209",
   "metadata": {},
   "outputs": [
    {
     "name": "stdout",
     "output_type": "stream",
     "text": [
      "Shape of x: (2200, 7)\n",
      "Shape of y: (2200,)\n"
     ]
    }
   ],
   "source": [
    "# Split the Dataset for Predictive Modelling \n",
    "\n",
    "y = data['label']\n",
    "x = data.drop(['label'], axis = 1)\n",
    "\n",
    "print('Shape of x:', x.shape)\n",
    "print('Shape of y:', y.shape)"
   ]
  },
  {
   "cell_type": "code",
   "execution_count": 22,
   "id": "c3d303e6",
   "metadata": {},
   "outputs": [
    {
     "name": "stdout",
     "output_type": "stream",
     "text": [
      "The Shape of x train: (1760, 7)\n",
      "The Shape of x test: (440, 7)\n",
      "The Shape of y train: (1760,)\n",
      "The Shape of y test: (440,)\n"
     ]
    }
   ],
   "source": [
    "# Create Training and Testing sets for validations of results\n",
    "\n",
    "from sklearn.model_selection import train_test_split\n",
    "\n",
    "x_train, x_test, y_train, y_test = train_test_split(x, y, test_size = 0.2, random_state = 0)\n",
    "\n",
    "print('The Shape of x train:', x_train.shape)\n",
    "print('The Shape of x test:', x_test.shape)\n",
    "print('The Shape of y train:', y_train.shape)\n",
    "print('The Shape of y test:', y_test.shape)\n"
   ]
  },
  {
   "cell_type": "code",
   "execution_count": 23,
   "id": "04275ccf",
   "metadata": {},
   "outputs": [],
   "source": [
    "# Create the predictive model : logistic regression\n",
    "\n",
    "from sklearn.linear_model import LogisticRegression \n",
    "model = LogisticRegression()\n",
    "model.fit(x_train, y_train)\n",
    "y_pred = model.predict(x_test)"
   ]
  },
  {
   "cell_type": "code",
   "execution_count": 24,
   "id": "9268446e",
   "metadata": {},
   "outputs": [
    {
     "name": "stdout",
     "output_type": "stream",
     "text": [
      "              precision    recall  f1-score   support\n",
      "\n",
      "       apple       1.00      1.00      1.00        18\n",
      "      banana       1.00      1.00      1.00        18\n",
      "   blackgram       0.86      0.82      0.84        22\n",
      "    chickpea       1.00      1.00      1.00        23\n",
      "     coconut       1.00      1.00      1.00        15\n",
      "      coffee       1.00      1.00      1.00        17\n",
      "      cotton       0.89      1.00      0.94        16\n",
      "      grapes       1.00      1.00      1.00        18\n",
      "        jute       0.84      1.00      0.91        21\n",
      " kidneybeans       1.00      1.00      1.00        20\n",
      "      lentil       0.94      0.94      0.94        17\n",
      "       maize       0.94      0.89      0.91        18\n",
      "       mango       1.00      1.00      1.00        21\n",
      "   mothbeans       0.88      0.92      0.90        25\n",
      "    mungbean       1.00      1.00      1.00        17\n",
      "   muskmelon       1.00      1.00      1.00        23\n",
      "      orange       1.00      1.00      1.00        23\n",
      "      papaya       1.00      0.95      0.98        21\n",
      "  pigeonpeas       1.00      1.00      1.00        22\n",
      " pomegranate       1.00      1.00      1.00        23\n",
      "        rice       1.00      0.84      0.91        25\n",
      "  watermelon       1.00      1.00      1.00        17\n",
      "\n",
      "    accuracy                           0.97       440\n",
      "   macro avg       0.97      0.97      0.97       440\n",
      "weighted avg       0.97      0.97      0.97       440\n",
      "\n"
     ]
    }
   ],
   "source": [
    "# Evaluate the model performance\n",
    "\n",
    "from sklearn.metrics import classification_report\n",
    "\n",
    "#print the classification report \n",
    "\n",
    "cr = classification_report(y_test, y_pred)\n",
    "print(cr)"
   ]
  },
  {
   "cell_type": "code",
   "execution_count": 25,
   "id": "77f68e2d",
   "metadata": {},
   "outputs": [
    {
     "data": {
      "text/html": [
       "<div>\n",
       "<style scoped>\n",
       "    .dataframe tbody tr th:only-of-type {\n",
       "        vertical-align: middle;\n",
       "    }\n",
       "\n",
       "    .dataframe tbody tr th {\n",
       "        vertical-align: top;\n",
       "    }\n",
       "\n",
       "    .dataframe thead th {\n",
       "        text-align: right;\n",
       "    }\n",
       "</style>\n",
       "<table border=\"1\" class=\"dataframe\">\n",
       "  <thead>\n",
       "    <tr style=\"text-align: right;\">\n",
       "      <th></th>\n",
       "      <th>N</th>\n",
       "      <th>P</th>\n",
       "      <th>K</th>\n",
       "      <th>temperature</th>\n",
       "      <th>humidity</th>\n",
       "      <th>ph</th>\n",
       "      <th>rainfall</th>\n",
       "      <th>label</th>\n",
       "    </tr>\n",
       "  </thead>\n",
       "  <tbody>\n",
       "    <tr>\n",
       "      <th>0</th>\n",
       "      <td>90</td>\n",
       "      <td>42</td>\n",
       "      <td>43</td>\n",
       "      <td>20.879744</td>\n",
       "      <td>82.002744</td>\n",
       "      <td>6.502985</td>\n",
       "      <td>202.935536</td>\n",
       "      <td>rice</td>\n",
       "    </tr>\n",
       "    <tr>\n",
       "      <th>1</th>\n",
       "      <td>85</td>\n",
       "      <td>58</td>\n",
       "      <td>41</td>\n",
       "      <td>21.770462</td>\n",
       "      <td>80.319644</td>\n",
       "      <td>7.038096</td>\n",
       "      <td>226.655537</td>\n",
       "      <td>rice</td>\n",
       "    </tr>\n",
       "    <tr>\n",
       "      <th>2</th>\n",
       "      <td>60</td>\n",
       "      <td>55</td>\n",
       "      <td>44</td>\n",
       "      <td>23.004459</td>\n",
       "      <td>82.320763</td>\n",
       "      <td>7.840207</td>\n",
       "      <td>263.964248</td>\n",
       "      <td>rice</td>\n",
       "    </tr>\n",
       "    <tr>\n",
       "      <th>3</th>\n",
       "      <td>74</td>\n",
       "      <td>35</td>\n",
       "      <td>40</td>\n",
       "      <td>26.491096</td>\n",
       "      <td>80.158363</td>\n",
       "      <td>6.980401</td>\n",
       "      <td>242.864034</td>\n",
       "      <td>rice</td>\n",
       "    </tr>\n",
       "    <tr>\n",
       "      <th>4</th>\n",
       "      <td>78</td>\n",
       "      <td>42</td>\n",
       "      <td>42</td>\n",
       "      <td>20.130175</td>\n",
       "      <td>81.604873</td>\n",
       "      <td>7.628473</td>\n",
       "      <td>262.717340</td>\n",
       "      <td>rice</td>\n",
       "    </tr>\n",
       "  </tbody>\n",
       "</table>\n",
       "</div>"
      ],
      "text/plain": [
       "    N   P   K  temperature   humidity        ph    rainfall label\n",
       "0  90  42  43    20.879744  82.002744  6.502985  202.935536  rice\n",
       "1  85  58  41    21.770462  80.319644  7.038096  226.655537  rice\n",
       "2  60  55  44    23.004459  82.320763  7.840207  263.964248  rice\n",
       "3  74  35  40    26.491096  80.158363  6.980401  242.864034  rice\n",
       "4  78  42  42    20.130175  81.604873  7.628473  262.717340  rice"
      ]
     },
     "execution_count": 25,
     "metadata": {},
     "output_type": "execute_result"
    }
   ],
   "source": [
    "# Check the head of the dataset\n",
    "data.head()"
   ]
  },
  {
   "cell_type": "code",
   "execution_count": 26,
   "id": "73a1298c",
   "metadata": {},
   "outputs": [
    {
     "name": "stdout",
     "output_type": "stream",
     "text": [
      "The suggested crop for the given climatic condition is: ['rice']\n"
     ]
    }
   ],
   "source": [
    "#test logistic regression model using an example data \n",
    "\n",
    "prediction = model.predict((np.array([[90,\n",
    "                                       40,\n",
    "                                       40,\n",
    "                                       20,\n",
    "                                       80,\n",
    "                                       7,\n",
    "                                       200]])))\n",
    "print('The suggested crop for the given climatic condition is:', prediction)"
   ]
  },
  {
   "cell_type": "code",
   "execution_count": 27,
   "id": "5f18986a",
   "metadata": {},
   "outputs": [
    {
     "data": {
      "text/html": [
       "<div>\n",
       "<style scoped>\n",
       "    .dataframe tbody tr th:only-of-type {\n",
       "        vertical-align: middle;\n",
       "    }\n",
       "\n",
       "    .dataframe tbody tr th {\n",
       "        vertical-align: top;\n",
       "    }\n",
       "\n",
       "    .dataframe thead th {\n",
       "        text-align: right;\n",
       "    }\n",
       "</style>\n",
       "<table border=\"1\" class=\"dataframe\">\n",
       "  <thead>\n",
       "    <tr style=\"text-align: right;\">\n",
       "      <th></th>\n",
       "      <th>N</th>\n",
       "      <th>P</th>\n",
       "      <th>K</th>\n",
       "      <th>temperature</th>\n",
       "      <th>humidity</th>\n",
       "      <th>ph</th>\n",
       "      <th>rainfall</th>\n",
       "      <th>label</th>\n",
       "    </tr>\n",
       "  </thead>\n",
       "  <tbody>\n",
       "    <tr>\n",
       "      <th>1600</th>\n",
       "      <td>22</td>\n",
       "      <td>30</td>\n",
       "      <td>12</td>\n",
       "      <td>15.781442</td>\n",
       "      <td>92.510777</td>\n",
       "      <td>6.354007</td>\n",
       "      <td>119.035002</td>\n",
       "      <td>orange</td>\n",
       "    </tr>\n",
       "    <tr>\n",
       "      <th>1601</th>\n",
       "      <td>37</td>\n",
       "      <td>6</td>\n",
       "      <td>13</td>\n",
       "      <td>26.030973</td>\n",
       "      <td>91.508193</td>\n",
       "      <td>7.511755</td>\n",
       "      <td>101.284774</td>\n",
       "      <td>orange</td>\n",
       "    </tr>\n",
       "    <tr>\n",
       "      <th>1602</th>\n",
       "      <td>27</td>\n",
       "      <td>13</td>\n",
       "      <td>6</td>\n",
       "      <td>13.360506</td>\n",
       "      <td>91.356082</td>\n",
       "      <td>7.335158</td>\n",
       "      <td>111.226688</td>\n",
       "      <td>orange</td>\n",
       "    </tr>\n",
       "    <tr>\n",
       "      <th>1603</th>\n",
       "      <td>7</td>\n",
       "      <td>16</td>\n",
       "      <td>9</td>\n",
       "      <td>18.879577</td>\n",
       "      <td>92.043045</td>\n",
       "      <td>7.813917</td>\n",
       "      <td>114.665951</td>\n",
       "      <td>orange</td>\n",
       "    </tr>\n",
       "    <tr>\n",
       "      <th>1604</th>\n",
       "      <td>20</td>\n",
       "      <td>7</td>\n",
       "      <td>9</td>\n",
       "      <td>29.477417</td>\n",
       "      <td>91.578029</td>\n",
       "      <td>7.129137</td>\n",
       "      <td>111.172750</td>\n",
       "      <td>orange</td>\n",
       "    </tr>\n",
       "  </tbody>\n",
       "</table>\n",
       "</div>"
      ],
      "text/plain": [
       "       N   P   K  temperature   humidity        ph    rainfall   label\n",
       "1600  22  30  12    15.781442  92.510777  6.354007  119.035002  orange\n",
       "1601  37   6  13    26.030973  91.508193  7.511755  101.284774  orange\n",
       "1602  27  13   6    13.360506  91.356082  7.335158  111.226688  orange\n",
       "1603   7  16   9    18.879577  92.043045  7.813917  114.665951  orange\n",
       "1604  20   7   9    29.477417  91.578029  7.129137  111.172750  orange"
      ]
     },
     "execution_count": 27,
     "metadata": {},
     "output_type": "execute_result"
    }
   ],
   "source": [
    "# check the model for oranges also \n",
    "\n",
    "data[data['label'] == 'orange'].head()"
   ]
  },
  {
   "cell_type": "code",
   "execution_count": 28,
   "id": "02fc764b",
   "metadata": {},
   "outputs": [
    {
     "name": "stdout",
     "output_type": "stream",
     "text": [
      "The suggested crop for the given climatic condition is: ['orange']\n"
     ]
    }
   ],
   "source": [
    "# Try a real time prediction\n",
    "\n",
    "prediction = model.predict((np.array([[20,\n",
    "                                       30,\n",
    "                                       10,\n",
    "                                       15,\n",
    "                                       90,\n",
    "                                       7.5,\n",
    "                                       100]])))\n",
    "print('The suggested crop for the given climatic condition is:', prediction)"
   ]
  }
 ],
 "metadata": {
  "kernelspec": {
   "display_name": "Python 3",
   "language": "python",
   "name": "python3"
  },
  "language_info": {
   "codemirror_mode": {
    "name": "ipython",
    "version": 3
   },
   "file_extension": ".py",
   "mimetype": "text/x-python",
   "name": "python",
   "nbconvert_exporter": "python",
   "pygments_lexer": "ipython3",
   "version": "3.8.8"
  },
  "vscode": {
   "interpreter": {
    "hash": "27f6fea6f47ae512550f0b8facdbd035a93e1dd89633f7bf2dd00a2502c71d0d"
   }
  }
 },
 "nbformat": 4,
 "nbformat_minor": 5
}
